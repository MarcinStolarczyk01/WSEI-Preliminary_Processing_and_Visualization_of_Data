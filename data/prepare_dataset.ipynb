{
 "cells": [
  {
   "cell_type": "markdown",
   "metadata": {},
   "source": [
    "## Data preparation\n",
    " Original dataset is in TSV format and values are coded in a single string.\n",
    " Raw Dataset has \"wide\" format.\n",
    " This notebook parses the \"key\" string into additional columns and changes table format into \"long\". Null values, originally coded as \":\" will be changed to `null`"
   ]
  },
  {
   "cell_type": "code",
   "execution_count": 1,
   "metadata": {},
   "outputs": [],
   "source": [
    "!pip -q install pandas"
   ]
  },
  {
   "cell_type": "code",
   "execution_count": 2,
   "metadata": {},
   "outputs": [],
   "source": [
    "imigration_data_path = \"Immigration_raw.csv\"\n",
    "integration_data_path = \"\""
   ]
  },
  {
   "cell_type": "code",
   "execution_count": 3,
   "metadata": {},
   "outputs": [],
   "source": [
    "import pandas as pd\n",
    "\n",
    "immigration_ds = pd.read_csv(imigration_data_path, sep=\",\")\n",
    "\n",
    "columns = immigration_ds.columns\n",
    "\n",
    "# address empty cells and \"p\", \"pe\" ect. tags\n",
    "immigration_ds = immigration_ds.map(lambda x: x.strip() if isinstance(x, str) else x)\n",
    "\n",
    "\n",
    "def extract_leading_int(val):\n",
    "    if isinstance(val, str):\n",
    "        parts = val.strip().split()\n",
    "        if parts and parts[0].isdigit():\n",
    "            return int(parts[0])\n",
    "    return val\n",
    "\n",
    "\n",
    "for col in columns[1:]:\n",
    "    immigration_ds[col] = immigration_ds[col].apply(extract_leading_int)\n",
    "immigration_ds = immigration_ds.replace(\":\", pd.NA)\n",
    "\n",
    "# parse dimention_key\n",
    "columns_clean = [\n",
    "    \"freq\",\n",
    "    \"age\",\n",
    "    \"agedef\",\n",
    "    \"c_birth\",\n",
    "    \"unit\",\n",
    "    \"sex\",\n",
    "    \"geo\",\n",
    "    \"2013\",\n",
    "    \"2014\",\n",
    "    \"2015\",\n",
    "    \"2016\",\n",
    "    \"2017\",\n",
    "    \"2018\",\n",
    "    \"2019\",\n",
    "    \"2020\",\n",
    "    \"2021\",\n",
    "    \"2022\",\n",
    "    \"2023\",\n",
    "]"
   ]
  },
  {
   "cell_type": "code",
   "execution_count": 4,
   "metadata": {},
   "outputs": [
    {
     "data": {
      "text/html": [
       "<div>\n",
       "<style scoped>\n",
       "    .dataframe tbody tr th:only-of-type {\n",
       "        vertical-align: middle;\n",
       "    }\n",
       "\n",
       "    .dataframe tbody tr th {\n",
       "        vertical-align: top;\n",
       "    }\n",
       "\n",
       "    .dataframe thead th {\n",
       "        text-align: right;\n",
       "    }\n",
       "</style>\n",
       "<table border=\"1\" class=\"dataframe\">\n",
       "  <thead>\n",
       "    <tr style=\"text-align: right;\">\n",
       "      <th></th>\n",
       "      <th>freq,age,agedef,c_birth,unit,sex,geo\\TIME_PERIOD</th>\n",
       "      <th>2013</th>\n",
       "      <th>2014</th>\n",
       "      <th>2015</th>\n",
       "      <th>2016</th>\n",
       "      <th>2017</th>\n",
       "      <th>2018</th>\n",
       "      <th>2019</th>\n",
       "      <th>2020</th>\n",
       "      <th>2021</th>\n",
       "      <th>2022</th>\n",
       "      <th>2023</th>\n",
       "    </tr>\n",
       "  </thead>\n",
       "  <tbody>\n",
       "    <tr>\n",
       "      <th>0</th>\n",
       "      <td>A,TOTAL,COMPLET,CC5_13_FOR_X_IS,NR,F,AT</td>\n",
       "      <td>4085</td>\n",
       "      <td>4093</td>\n",
       "      <td>4723</td>\n",
       "      <td>4827</td>\n",
       "      <td>&lt;NA&gt;</td>\n",
       "      <td>4130</td>\n",
       "      <td>4286</td>\n",
       "      <td>&lt;NA&gt;</td>\n",
       "      <td>&lt;NA&gt;</td>\n",
       "      <td>&lt;NA&gt;</td>\n",
       "      <td>&lt;NA&gt;</td>\n",
       "    </tr>\n",
       "    <tr>\n",
       "      <th>1</th>\n",
       "      <td>A,TOTAL,COMPLET,CC5_13_FOR_X_IS,NR,F,BE</td>\n",
       "      <td>1407</td>\n",
       "      <td>953</td>\n",
       "      <td>1017</td>\n",
       "      <td>1004</td>\n",
       "      <td>&lt;NA&gt;</td>\n",
       "      <td>1364</td>\n",
       "      <td>1514</td>\n",
       "      <td>&lt;NA&gt;</td>\n",
       "      <td>&lt;NA&gt;</td>\n",
       "      <td>&lt;NA&gt;</td>\n",
       "      <td>&lt;NA&gt;</td>\n",
       "    </tr>\n",
       "    <tr>\n",
       "      <th>2</th>\n",
       "      <td>A,TOTAL,COMPLET,CC5_13_FOR_X_IS,NR,F,BG</td>\n",
       "      <td>743</td>\n",
       "      <td>577</td>\n",
       "      <td>559</td>\n",
       "      <td>586</td>\n",
       "      <td>&lt;NA&gt;</td>\n",
       "      <td>1413</td>\n",
       "      <td>1659</td>\n",
       "      <td>&lt;NA&gt;</td>\n",
       "      <td>&lt;NA&gt;</td>\n",
       "      <td>&lt;NA&gt;</td>\n",
       "      <td>&lt;NA&gt;</td>\n",
       "    </tr>\n",
       "    <tr>\n",
       "      <th>3</th>\n",
       "      <td>A,TOTAL,COMPLET,CC5_13_FOR_X_IS,NR,F,CH</td>\n",
       "      <td>2758</td>\n",
       "      <td>2766</td>\n",
       "      <td>2876</td>\n",
       "      <td>3109</td>\n",
       "      <td>&lt;NA&gt;</td>\n",
       "      <td>3209</td>\n",
       "      <td>3198</td>\n",
       "      <td>&lt;NA&gt;</td>\n",
       "      <td>&lt;NA&gt;</td>\n",
       "      <td>&lt;NA&gt;</td>\n",
       "      <td>&lt;NA&gt;</td>\n",
       "    </tr>\n",
       "    <tr>\n",
       "      <th>4</th>\n",
       "      <td>A,TOTAL,COMPLET,CC5_13_FOR_X_IS,NR,F,CZ</td>\n",
       "      <td>155</td>\n",
       "      <td>106</td>\n",
       "      <td>120</td>\n",
       "      <td>414</td>\n",
       "      <td>&lt;NA&gt;</td>\n",
       "      <td>736</td>\n",
       "      <td>1013</td>\n",
       "      <td>&lt;NA&gt;</td>\n",
       "      <td>&lt;NA&gt;</td>\n",
       "      <td>&lt;NA&gt;</td>\n",
       "      <td>&lt;NA&gt;</td>\n",
       "    </tr>\n",
       "  </tbody>\n",
       "</table>\n",
       "</div>"
      ],
      "text/plain": [
       "  freq,age,agedef,c_birth,unit,sex,geo\\TIME_PERIOD 2013  2014  2015  2016   \\\n",
       "0          A,TOTAL,COMPLET,CC5_13_FOR_X_IS,NR,F,AT  4085  4093  4723  4827   \n",
       "1          A,TOTAL,COMPLET,CC5_13_FOR_X_IS,NR,F,BE  1407   953  1017  1004   \n",
       "2          A,TOTAL,COMPLET,CC5_13_FOR_X_IS,NR,F,BG   743   577   559   586   \n",
       "3          A,TOTAL,COMPLET,CC5_13_FOR_X_IS,NR,F,CH  2758  2766  2876  3109   \n",
       "4          A,TOTAL,COMPLET,CC5_13_FOR_X_IS,NR,F,CZ   155   106   120   414   \n",
       "\n",
       "  2017  2018  2019  2020  2021  2022  2023   \n",
       "0  <NA>  4130  4286  <NA>  <NA>  <NA>  <NA>  \n",
       "1  <NA>  1364  1514  <NA>  <NA>  <NA>  <NA>  \n",
       "2  <NA>  1413  1659  <NA>  <NA>  <NA>  <NA>  \n",
       "3  <NA>  3209  3198  <NA>  <NA>  <NA>  <NA>  \n",
       "4  <NA>   736  1013  <NA>  <NA>  <NA>  <NA>  "
      ]
     },
     "execution_count": 4,
     "metadata": {},
     "output_type": "execute_result"
    }
   ],
   "source": [
    "immigration_ds.head(5)"
   ]
  },
  {
   "cell_type": "code",
   "execution_count": 5,
   "metadata": {},
   "outputs": [],
   "source": [
    "rows = []\n",
    "for idx, row in immigration_ds.iterrows():\n",
    "    complex_key = row.iloc[0]\n",
    "    parsed = complex_key.split(\",\")\n",
    "    rest = row.iloc[1:].tolist()\n",
    "    all_values = parsed + rest\n",
    "    rows.append(all_values)\n",
    "\n",
    "new_ds = pd.DataFrame(rows, columns=columns_clean)"
   ]
  },
  {
   "cell_type": "code",
   "execution_count": 6,
   "metadata": {},
   "outputs": [
    {
     "data": {
      "text/html": [
       "<div>\n",
       "<style scoped>\n",
       "    .dataframe tbody tr th:only-of-type {\n",
       "        vertical-align: middle;\n",
       "    }\n",
       "\n",
       "    .dataframe tbody tr th {\n",
       "        vertical-align: top;\n",
       "    }\n",
       "\n",
       "    .dataframe thead th {\n",
       "        text-align: right;\n",
       "    }\n",
       "</style>\n",
       "<table border=\"1\" class=\"dataframe\">\n",
       "  <thead>\n",
       "    <tr style=\"text-align: right;\">\n",
       "      <th></th>\n",
       "      <th>freq</th>\n",
       "      <th>age</th>\n",
       "      <th>agedef</th>\n",
       "      <th>c_birth</th>\n",
       "      <th>unit</th>\n",
       "      <th>sex</th>\n",
       "      <th>geo</th>\n",
       "      <th>2013</th>\n",
       "      <th>2014</th>\n",
       "      <th>2015</th>\n",
       "      <th>2016</th>\n",
       "      <th>2017</th>\n",
       "      <th>2018</th>\n",
       "      <th>2019</th>\n",
       "      <th>2020</th>\n",
       "      <th>2021</th>\n",
       "      <th>2022</th>\n",
       "      <th>2023</th>\n",
       "    </tr>\n",
       "  </thead>\n",
       "  <tbody>\n",
       "    <tr>\n",
       "      <th>0</th>\n",
       "      <td>A</td>\n",
       "      <td>TOTAL</td>\n",
       "      <td>COMPLET</td>\n",
       "      <td>CC5_13_FOR_X_IS</td>\n",
       "      <td>NR</td>\n",
       "      <td>F</td>\n",
       "      <td>AT</td>\n",
       "      <td>4085</td>\n",
       "      <td>4093</td>\n",
       "      <td>4723</td>\n",
       "      <td>4827</td>\n",
       "      <td>&lt;NA&gt;</td>\n",
       "      <td>4130</td>\n",
       "      <td>4286</td>\n",
       "      <td>&lt;NA&gt;</td>\n",
       "      <td>&lt;NA&gt;</td>\n",
       "      <td>&lt;NA&gt;</td>\n",
       "      <td>&lt;NA&gt;</td>\n",
       "    </tr>\n",
       "    <tr>\n",
       "      <th>1</th>\n",
       "      <td>A</td>\n",
       "      <td>TOTAL</td>\n",
       "      <td>COMPLET</td>\n",
       "      <td>CC5_13_FOR_X_IS</td>\n",
       "      <td>NR</td>\n",
       "      <td>F</td>\n",
       "      <td>BE</td>\n",
       "      <td>1407</td>\n",
       "      <td>953</td>\n",
       "      <td>1017</td>\n",
       "      <td>1004</td>\n",
       "      <td>&lt;NA&gt;</td>\n",
       "      <td>1364</td>\n",
       "      <td>1514</td>\n",
       "      <td>&lt;NA&gt;</td>\n",
       "      <td>&lt;NA&gt;</td>\n",
       "      <td>&lt;NA&gt;</td>\n",
       "      <td>&lt;NA&gt;</td>\n",
       "    </tr>\n",
       "    <tr>\n",
       "      <th>2</th>\n",
       "      <td>A</td>\n",
       "      <td>TOTAL</td>\n",
       "      <td>COMPLET</td>\n",
       "      <td>CC5_13_FOR_X_IS</td>\n",
       "      <td>NR</td>\n",
       "      <td>F</td>\n",
       "      <td>BG</td>\n",
       "      <td>743</td>\n",
       "      <td>577</td>\n",
       "      <td>559</td>\n",
       "      <td>586</td>\n",
       "      <td>&lt;NA&gt;</td>\n",
       "      <td>1413</td>\n",
       "      <td>1659</td>\n",
       "      <td>&lt;NA&gt;</td>\n",
       "      <td>&lt;NA&gt;</td>\n",
       "      <td>&lt;NA&gt;</td>\n",
       "      <td>&lt;NA&gt;</td>\n",
       "    </tr>\n",
       "    <tr>\n",
       "      <th>3</th>\n",
       "      <td>A</td>\n",
       "      <td>TOTAL</td>\n",
       "      <td>COMPLET</td>\n",
       "      <td>CC5_13_FOR_X_IS</td>\n",
       "      <td>NR</td>\n",
       "      <td>F</td>\n",
       "      <td>CH</td>\n",
       "      <td>2758</td>\n",
       "      <td>2766</td>\n",
       "      <td>2876</td>\n",
       "      <td>3109</td>\n",
       "      <td>&lt;NA&gt;</td>\n",
       "      <td>3209</td>\n",
       "      <td>3198</td>\n",
       "      <td>&lt;NA&gt;</td>\n",
       "      <td>&lt;NA&gt;</td>\n",
       "      <td>&lt;NA&gt;</td>\n",
       "      <td>&lt;NA&gt;</td>\n",
       "    </tr>\n",
       "    <tr>\n",
       "      <th>4</th>\n",
       "      <td>A</td>\n",
       "      <td>TOTAL</td>\n",
       "      <td>COMPLET</td>\n",
       "      <td>CC5_13_FOR_X_IS</td>\n",
       "      <td>NR</td>\n",
       "      <td>F</td>\n",
       "      <td>CZ</td>\n",
       "      <td>155</td>\n",
       "      <td>106</td>\n",
       "      <td>120</td>\n",
       "      <td>414</td>\n",
       "      <td>&lt;NA&gt;</td>\n",
       "      <td>736</td>\n",
       "      <td>1013</td>\n",
       "      <td>&lt;NA&gt;</td>\n",
       "      <td>&lt;NA&gt;</td>\n",
       "      <td>&lt;NA&gt;</td>\n",
       "      <td>&lt;NA&gt;</td>\n",
       "    </tr>\n",
       "  </tbody>\n",
       "</table>\n",
       "</div>"
      ],
      "text/plain": [
       "  freq    age   agedef          c_birth unit sex geo  2013  2014  2015  2016  \\\n",
       "0    A  TOTAL  COMPLET  CC5_13_FOR_X_IS   NR   F  AT  4085  4093  4723  4827   \n",
       "1    A  TOTAL  COMPLET  CC5_13_FOR_X_IS   NR   F  BE  1407   953  1017  1004   \n",
       "2    A  TOTAL  COMPLET  CC5_13_FOR_X_IS   NR   F  BG   743   577   559   586   \n",
       "3    A  TOTAL  COMPLET  CC5_13_FOR_X_IS   NR   F  CH  2758  2766  2876  3109   \n",
       "4    A  TOTAL  COMPLET  CC5_13_FOR_X_IS   NR   F  CZ   155   106   120   414   \n",
       "\n",
       "   2017  2018  2019  2020  2021  2022  2023  \n",
       "0  <NA>  4130  4286  <NA>  <NA>  <NA>  <NA>  \n",
       "1  <NA>  1364  1514  <NA>  <NA>  <NA>  <NA>  \n",
       "2  <NA>  1413  1659  <NA>  <NA>  <NA>  <NA>  \n",
       "3  <NA>  3209  3198  <NA>  <NA>  <NA>  <NA>  \n",
       "4  <NA>   736  1013  <NA>  <NA>  <NA>  <NA>  "
      ]
     },
     "execution_count": 6,
     "metadata": {},
     "output_type": "execute_result"
    }
   ],
   "source": [
    "new_ds.head(5)"
   ]
  },
  {
   "cell_type": "code",
   "execution_count": 7,
   "metadata": {},
   "outputs": [],
   "source": [
    "# Drop \"unit\" as it has only one value\n",
    "new_ds = new_ds.drop(columns=[\"unit\", \"freq\"])"
   ]
  },
  {
   "cell_type": "markdown",
   "metadata": {},
   "source": [
    "### Now invert format from wide to long"
   ]
  },
  {
   "cell_type": "code",
   "execution_count": 8,
   "metadata": {},
   "outputs": [
    {
     "name": "stdout",
     "output_type": "stream",
     "text": [
      "Processing row 7415/67404 11 %\n",
      "Processing row 14830/67404 22 %\n",
      "Processing row 22245/67404 33 %\n",
      "Processing row 29660/67404 44 %\n",
      "Processing row 37075/67404 55 %\n",
      "Processing row 44490/67404 66 %\n",
      "Processing row 51905/67404 77 %\n",
      "Processing row 59320/67404 88 %\n",
      "Processing row 66735/67404 99 %\n"
     ]
    }
   ],
   "source": [
    "long_columns = [\"age\", \"agedef\", \"c_birth\", \"sex\", \"geo\", \"year\", \"nr\"]\n",
    "rows = []\n",
    "\n",
    "years = [\"2013\", \"2014\", \"2015\", \"2016\", \"2017\", \"2018\", \"2019\", \"2020\", \"2021\", \"2022\", \"2023\"]\n",
    "expected_length = len(years) * new_ds.shape[0]\n",
    "i, one_perc = 0, int(expected_length / 100)\n",
    "for idx, row in new_ds.iterrows():\n",
    "    if i > one_perc:\n",
    "        print(f\"Processing row {idx}/{len(new_ds)} {(idx * 100 / len(new_ds)):.0f} %\")\n",
    "        i = 0\n",
    "    for year in years:\n",
    "        values = row.iloc[:5].tolist()\n",
    "        nr = row[year]\n",
    "        values.extend([year, nr])\n",
    "        rows.append(values)\n",
    "    i += 1\n",
    "\n",
    "long_df = pd.DataFrame(rows, columns=long_columns)"
   ]
  },
  {
   "cell_type": "code",
   "execution_count": 9,
   "metadata": {},
   "outputs": [
    {
     "data": {
      "text/html": [
       "<div>\n",
       "<style scoped>\n",
       "    .dataframe tbody tr th:only-of-type {\n",
       "        vertical-align: middle;\n",
       "    }\n",
       "\n",
       "    .dataframe tbody tr th {\n",
       "        vertical-align: top;\n",
       "    }\n",
       "\n",
       "    .dataframe thead th {\n",
       "        text-align: right;\n",
       "    }\n",
       "</style>\n",
       "<table border=\"1\" class=\"dataframe\">\n",
       "  <thead>\n",
       "    <tr style=\"text-align: right;\">\n",
       "      <th></th>\n",
       "      <th>age</th>\n",
       "      <th>agedef</th>\n",
       "      <th>c_birth</th>\n",
       "      <th>sex</th>\n",
       "      <th>geo</th>\n",
       "      <th>year</th>\n",
       "      <th>nr</th>\n",
       "    </tr>\n",
       "  </thead>\n",
       "  <tbody>\n",
       "    <tr>\n",
       "      <th>0</th>\n",
       "      <td>TOTAL</td>\n",
       "      <td>COMPLET</td>\n",
       "      <td>CC5_13_FOR_X_IS</td>\n",
       "      <td>F</td>\n",
       "      <td>AT</td>\n",
       "      <td>2013</td>\n",
       "      <td>4085</td>\n",
       "    </tr>\n",
       "    <tr>\n",
       "      <th>1</th>\n",
       "      <td>TOTAL</td>\n",
       "      <td>COMPLET</td>\n",
       "      <td>CC5_13_FOR_X_IS</td>\n",
       "      <td>F</td>\n",
       "      <td>AT</td>\n",
       "      <td>2014</td>\n",
       "      <td>4093</td>\n",
       "    </tr>\n",
       "    <tr>\n",
       "      <th>2</th>\n",
       "      <td>TOTAL</td>\n",
       "      <td>COMPLET</td>\n",
       "      <td>CC5_13_FOR_X_IS</td>\n",
       "      <td>F</td>\n",
       "      <td>AT</td>\n",
       "      <td>2015</td>\n",
       "      <td>4723</td>\n",
       "    </tr>\n",
       "    <tr>\n",
       "      <th>3</th>\n",
       "      <td>TOTAL</td>\n",
       "      <td>COMPLET</td>\n",
       "      <td>CC5_13_FOR_X_IS</td>\n",
       "      <td>F</td>\n",
       "      <td>AT</td>\n",
       "      <td>2016</td>\n",
       "      <td>4827</td>\n",
       "    </tr>\n",
       "    <tr>\n",
       "      <th>4</th>\n",
       "      <td>TOTAL</td>\n",
       "      <td>COMPLET</td>\n",
       "      <td>CC5_13_FOR_X_IS</td>\n",
       "      <td>F</td>\n",
       "      <td>AT</td>\n",
       "      <td>2017</td>\n",
       "      <td>&lt;NA&gt;</td>\n",
       "    </tr>\n",
       "  </tbody>\n",
       "</table>\n",
       "</div>"
      ],
      "text/plain": [
       "     age   agedef          c_birth sex geo  year    nr\n",
       "0  TOTAL  COMPLET  CC5_13_FOR_X_IS   F  AT  2013  4085\n",
       "1  TOTAL  COMPLET  CC5_13_FOR_X_IS   F  AT  2014  4093\n",
       "2  TOTAL  COMPLET  CC5_13_FOR_X_IS   F  AT  2015  4723\n",
       "3  TOTAL  COMPLET  CC5_13_FOR_X_IS   F  AT  2016  4827\n",
       "4  TOTAL  COMPLET  CC5_13_FOR_X_IS   F  AT  2017  <NA>"
      ]
     },
     "execution_count": 9,
     "metadata": {},
     "output_type": "execute_result"
    }
   ],
   "source": [
    "long_df.head(5)"
   ]
  },
  {
   "cell_type": "code",
   "execution_count": 10,
   "metadata": {},
   "outputs": [],
   "source": [
    "long_df.to_csv(\"Immigration.csv\", index=False)"
   ]
  },
  {
   "cell_type": "code",
   "execution_count": 11,
   "metadata": {},
   "outputs": [
    {
     "data": {
      "text/plain": [
       "array(['CC5_13_FOR_X_IS', 'CC5_15_FOR', 'CC8_22_FOR', 'CC9_23_FOR',\n",
       "       'EFTA_FOR', 'EU27_2020_FOR', 'EU28_FOR', 'EXT_FOR_HDI',\n",
       "       'EXT_FOR_HDI_H', 'EXT_FOR_HDI_L', 'EXT_FOR_HDI_M',\n",
       "       'EXT_FOR_HDI_VH', 'NAT', 'NEU27_2020_FOR', 'NEU28_FOR', 'TOTAL',\n",
       "       'UNK'], dtype=object)"
      ]
     },
     "execution_count": 11,
     "metadata": {},
     "output_type": "execute_result"
    }
   ],
   "source": [
    "long_df.c_birth.unique()"
   ]
  },
  {
   "cell_type": "code",
   "execution_count": 12,
   "metadata": {},
   "outputs": [
    {
     "data": {
      "text/plain": [
       "array(['AT', 'BE', 'BG', 'CH', 'CZ', 'DE', 'DK', 'EE', 'EL', 'ES', 'FI',\n",
       "       'FR', 'HR', 'HU', 'IE', 'IS', 'IT', 'LI', 'LT', 'LU', 'LV', 'MT',\n",
       "       'NL', 'NO', 'PL', 'RO', 'SE', 'SI', 'SK', 'UK', 'CY', 'EU27_2020',\n",
       "       'ME', 'MK', 'PT', 'MD', 'UA'], dtype=object)"
      ]
     },
     "execution_count": 12,
     "metadata": {},
     "output_type": "execute_result"
    }
   ],
   "source": [
    "long_df.geo.unique()"
   ]
  },
  {
   "cell_type": "code",
   "execution_count": 13,
   "metadata": {},
   "outputs": [
    {
     "data": {
      "text/plain": [
       "0         TOTAL\n",
       "1         TOTAL\n",
       "2         TOTAL\n",
       "3         TOTAL\n",
       "4         TOTAL\n",
       "          ...  \n",
       "741439    Y_LT5\n",
       "741440    Y_LT5\n",
       "741441    Y_LT5\n",
       "741442    Y_LT5\n",
       "741443    Y_LT5\n",
       "Name: age, Length: 741444, dtype: object"
      ]
     },
     "execution_count": 13,
     "metadata": {},
     "output_type": "execute_result"
    }
   ],
   "source": [
    "long_df.age"
   ]
  },
  {
   "cell_type": "markdown",
   "metadata": {},
   "source": [
    "# Europe population ds"
   ]
  },
  {
   "cell_type": "code",
   "execution_count": 14,
   "metadata": {},
   "outputs": [],
   "source": [
    "import pandas as pd\n",
    "\n",
    "df = pd.read_csv(\"europe_population_raw.csv\")"
   ]
  },
  {
   "cell_type": "code",
   "execution_count": 15,
   "metadata": {},
   "outputs": [
    {
     "data": {
      "text/plain": [
       "Index(['STRUCTURE', 'STRUCTURE_ID', 'STRUCTURE_NAME', 'freq', 'Time frequency',\n",
       "       'indic_de', 'Demographic indicator', 'geo',\n",
       "       'Geopolitical entity (reporting)', 'TIME_PERIOD', 'Time', 'OBS_VALUE',\n",
       "       'Observation value', 'OBS_FLAG',\n",
       "       'Observation status (Flag) V2 structure', 'CONF_STATUS',\n",
       "       'Confidentiality status (flag)'],\n",
       "      dtype='object')"
      ]
     },
     "execution_count": 15,
     "metadata": {},
     "output_type": "execute_result"
    }
   ],
   "source": [
    "df.columns"
   ]
  },
  {
   "cell_type": "code",
   "execution_count": 16,
   "metadata": {},
   "outputs": [],
   "source": [
    "df = df[['geo', 'TIME_PERIOD', 'OBS_VALUE']].rename(columns={\"TIME_PERIOD\": \"year\", \"OBS_VALUE\": \"population\"})"
   ]
  },
  {
   "cell_type": "code",
   "execution_count": 17,
   "metadata": {},
   "outputs": [],
   "source": [
    "df.to_csv(\"europe_population.csv\", index=False)"
   ]
  },
  {
   "cell_type": "code",
   "execution_count": 18,
   "metadata": {},
   "outputs": [
    {
     "data": {
      "text/plain": [
       "array(['AT', 'BE', 'BG', 'CH', 'CZ', 'DE', 'DK', 'EE', 'EL', 'ES', 'FI',\n",
       "       'FR', 'HR', 'HU', 'IE', 'IS', 'IT', 'LI', 'LT', 'LU', 'LV', 'MT',\n",
       "       'NL', 'NO', 'PL', 'RO', 'SE', 'SI', 'SK', 'UK', 'CY', 'EU27_2020',\n",
       "       'ME', 'MK', 'PT', 'MD', 'UA'], dtype=object)"
      ]
     },
     "execution_count": 18,
     "metadata": {},
     "output_type": "execute_result"
    }
   ],
   "source": [
    "long_df.geo.unique()"
   ]
  },
  {
   "cell_type": "code",
   "execution_count": 19,
   "metadata": {},
   "outputs": [
    {
     "data": {
      "text/plain": [
       "array(['CC5_13_FOR_X_IS', 'CC5_15_FOR', 'CC8_22_FOR', 'CC9_23_FOR',\n",
       "       'EFTA_FOR', 'EU27_2020_FOR', 'EU28_FOR', 'EXT_FOR_HDI',\n",
       "       'EXT_FOR_HDI_H', 'EXT_FOR_HDI_L', 'EXT_FOR_HDI_M',\n",
       "       'EXT_FOR_HDI_VH', 'NAT', 'NEU27_2020_FOR', 'NEU28_FOR', 'TOTAL',\n",
       "       'UNK'], dtype=object)"
      ]
     },
     "execution_count": 19,
     "metadata": {},
     "output_type": "execute_result"
    }
   ],
   "source": [
    "long_df.c_birth.unique()"
   ]
  }
 ],
 "metadata": {
  "kernelspec": {
   "display_name": ".venv",
   "language": "python",
   "name": "python3"
  },
  "language_info": {
   "codemirror_mode": {
    "name": "ipython",
    "version": 3
   },
   "file_extension": ".py",
   "mimetype": "text/x-python",
   "name": "python",
   "nbconvert_exporter": "python",
   "pygments_lexer": "ipython3",
   "version": "3.12.10"
  }
 },
 "nbformat": 4,
 "nbformat_minor": 2
}
