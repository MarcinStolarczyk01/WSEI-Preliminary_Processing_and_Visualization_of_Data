{
 "cells": [
  {
   "cell_type": "markdown",
   "metadata": {},
   "source": [
    "## Data preparation\n",
    " Original dataset is in TSV format and values are coded in a single string.\n",
    " Raw Dataset has \"wide\" format.\n",
    " This notebook parses the \"key\" string into additional columns and changes table format into \"long\". Null values, originally coded as \":\" will be changed to `null`"
   ]
  },
  {
   "cell_type": "code",
   "execution_count": 6,
   "metadata": {},
   "outputs": [],
   "source": [
    "!pip -q install pandas"
   ]
  },
  {
   "cell_type": "code",
   "execution_count": 7,
   "metadata": {},
   "outputs": [],
   "source": [
    "imigration_data_path = \"Immigration_raw.csv\"\n",
    "integration_data_path = \"\""
   ]
  },
  {
   "cell_type": "code",
   "execution_count": null,
   "metadata": {},
   "outputs": [],
   "source": [
    "import pandas as pd\n",
    "\n",
    "immigration_ds = pd.read_csv(imigration_data_path, sep=\",\")\n",
    "\n",
    "# address empty cells\n",
    "immigration_ds = immigration_ds.replace(\" \", \"\")\n",
    "immigration_ds = immigration_ds.replace(\":\", pd.NA)\n",
    "immigration_ds = immigration_ds.replace(\"p\", \"\")\n",
    "immigration_ds = immigration_ds.replace(\"e\", \"\")\n",
    "\n",
    "# parse dimention_key\n",
    "columns = immigration_ds.columns\n",
    "new_columns = columns[0][:len(columns[0])-len(r\"\\TIME_PERIOD\")].split(\",\")\n",
    "new_columns.extend(columns[1:])\n",
    "new_columns = new_columns.copy()"
   ]
  },
  {
   "cell_type": "code",
   "execution_count": 9,
   "metadata": {},
   "outputs": [
    {
     "data": {
      "text/plain": [
       "['freq',\n",
       " 'age',\n",
       " 'agedef',\n",
       " 'c_birth',\n",
       " 'unit',\n",
       " 'sex',\n",
       " 'geo',\n",
       " '2013 ',\n",
       " '2014 ',\n",
       " '2015 ',\n",
       " '2016 ',\n",
       " '2017 ',\n",
       " '2018 ',\n",
       " '2019 ',\n",
       " '2020 ',\n",
       " '2021 ',\n",
       " '2022 ',\n",
       " '2023 ']"
      ]
     },
     "metadata": {},
     "output_type": "display_data"
    }
   ],
   "source": [
    "display(new_columns)"
   ]
  },
  {
   "cell_type": "code",
   "execution_count": 10,
   "metadata": {},
   "outputs": [],
   "source": [
    "\n",
    "new_ds = pd.DataFrame(columns=new_columns)\n",
    "for idx, row in immigration_ds.iterrows():\n",
    "    # The first column contains the complex key\n",
    "    complex_key = row.iloc[0]\n",
    "    # Parse the key into separate values\n",
    "    parsed = complex_key.split(\",\")\n",
    "    # Get the rest of the values (excluding the first column)\n",
    "    rest = row.iloc[1:].tolist()\n",
    "    # Combine parsed key and the rest of the values\n",
    "    all_values = parsed + rest\n",
    "    # Append to new DataFrame\n",
    "    new_ds.loc[len(new_ds)] = all_values"
   ]
  },
  {
   "cell_type": "code",
   "execution_count": 11,
   "metadata": {},
   "outputs": [
    {
     "data": {
      "text/html": [
       "<div>\n",
       "<style scoped>\n",
       "    .dataframe tbody tr th:only-of-type {\n",
       "        vertical-align: middle;\n",
       "    }\n",
       "\n",
       "    .dataframe tbody tr th {\n",
       "        vertical-align: top;\n",
       "    }\n",
       "\n",
       "    .dataframe thead th {\n",
       "        text-align: right;\n",
       "    }\n",
       "</style>\n",
       "<table border=\"1\" class=\"dataframe\">\n",
       "  <thead>\n",
       "    <tr style=\"text-align: right;\">\n",
       "      <th></th>\n",
       "      <th>freq</th>\n",
       "      <th>age</th>\n",
       "      <th>agedef</th>\n",
       "      <th>c_birth</th>\n",
       "      <th>unit</th>\n",
       "      <th>sex</th>\n",
       "      <th>geo</th>\n",
       "      <th>2013</th>\n",
       "      <th>2014</th>\n",
       "      <th>2015</th>\n",
       "      <th>2016</th>\n",
       "      <th>2017</th>\n",
       "      <th>2018</th>\n",
       "      <th>2019</th>\n",
       "      <th>2020</th>\n",
       "      <th>2021</th>\n",
       "      <th>2022</th>\n",
       "      <th>2023</th>\n",
       "    </tr>\n",
       "  </thead>\n",
       "  <tbody>\n",
       "    <tr>\n",
       "      <th>0</th>\n",
       "      <td>A</td>\n",
       "      <td>TOTAL</td>\n",
       "      <td>COMPLET</td>\n",
       "      <td>CC5_13_FOR_X_IS</td>\n",
       "      <td>NR</td>\n",
       "      <td>F</td>\n",
       "      <td>AT</td>\n",
       "      <td>4085</td>\n",
       "      <td>4093</td>\n",
       "      <td>4723</td>\n",
       "      <td>4827</td>\n",
       "      <td>:</td>\n",
       "      <td>4130</td>\n",
       "      <td>4286</td>\n",
       "      <td>:</td>\n",
       "      <td>:</td>\n",
       "      <td>:</td>\n",
       "      <td>:</td>\n",
       "    </tr>\n",
       "    <tr>\n",
       "      <th>1</th>\n",
       "      <td>A</td>\n",
       "      <td>TOTAL</td>\n",
       "      <td>COMPLET</td>\n",
       "      <td>CC5_13_FOR_X_IS</td>\n",
       "      <td>NR</td>\n",
       "      <td>F</td>\n",
       "      <td>BE</td>\n",
       "      <td>1407</td>\n",
       "      <td>953</td>\n",
       "      <td>1017</td>\n",
       "      <td>1004</td>\n",
       "      <td>:</td>\n",
       "      <td>1364</td>\n",
       "      <td>1514</td>\n",
       "      <td>:</td>\n",
       "      <td>:</td>\n",
       "      <td>:</td>\n",
       "      <td>:</td>\n",
       "    </tr>\n",
       "    <tr>\n",
       "      <th>2</th>\n",
       "      <td>A</td>\n",
       "      <td>TOTAL</td>\n",
       "      <td>COMPLET</td>\n",
       "      <td>CC5_13_FOR_X_IS</td>\n",
       "      <td>NR</td>\n",
       "      <td>F</td>\n",
       "      <td>BG</td>\n",
       "      <td>743 p</td>\n",
       "      <td>577</td>\n",
       "      <td>559</td>\n",
       "      <td>586</td>\n",
       "      <td>:</td>\n",
       "      <td>1413</td>\n",
       "      <td>1659</td>\n",
       "      <td>:</td>\n",
       "      <td>:</td>\n",
       "      <td>:</td>\n",
       "      <td>:</td>\n",
       "    </tr>\n",
       "    <tr>\n",
       "      <th>3</th>\n",
       "      <td>A</td>\n",
       "      <td>TOTAL</td>\n",
       "      <td>COMPLET</td>\n",
       "      <td>CC5_13_FOR_X_IS</td>\n",
       "      <td>NR</td>\n",
       "      <td>F</td>\n",
       "      <td>CH</td>\n",
       "      <td>2758</td>\n",
       "      <td>2766</td>\n",
       "      <td>2876</td>\n",
       "      <td>3109</td>\n",
       "      <td>:</td>\n",
       "      <td>3209</td>\n",
       "      <td>3198</td>\n",
       "      <td>:</td>\n",
       "      <td>:</td>\n",
       "      <td>:</td>\n",
       "      <td>:</td>\n",
       "    </tr>\n",
       "    <tr>\n",
       "      <th>4</th>\n",
       "      <td>A</td>\n",
       "      <td>TOTAL</td>\n",
       "      <td>COMPLET</td>\n",
       "      <td>CC5_13_FOR_X_IS</td>\n",
       "      <td>NR</td>\n",
       "      <td>F</td>\n",
       "      <td>CZ</td>\n",
       "      <td>155</td>\n",
       "      <td>106</td>\n",
       "      <td>120</td>\n",
       "      <td>414</td>\n",
       "      <td>:</td>\n",
       "      <td>736</td>\n",
       "      <td>1013</td>\n",
       "      <td>:</td>\n",
       "      <td>:</td>\n",
       "      <td>:</td>\n",
       "      <td>:</td>\n",
       "    </tr>\n",
       "  </tbody>\n",
       "</table>\n",
       "</div>"
      ],
      "text/plain": [
       "  freq    age   agedef          c_birth unit sex geo  2013   2014   2015   \\\n",
       "0    A  TOTAL  COMPLET  CC5_13_FOR_X_IS   NR   F  AT  4085   4093   4723    \n",
       "1    A  TOTAL  COMPLET  CC5_13_FOR_X_IS   NR   F  BE  1407    953   1017    \n",
       "2    A  TOTAL  COMPLET  CC5_13_FOR_X_IS   NR   F  BG  743 p   577    559    \n",
       "3    A  TOTAL  COMPLET  CC5_13_FOR_X_IS   NR   F  CH  2758   2766   2876    \n",
       "4    A  TOTAL  COMPLET  CC5_13_FOR_X_IS   NR   F  CZ   155    106    120    \n",
       "\n",
       "   2016  2017   2018   2019  2020  2021  2022  2023   \n",
       "0  4827     :   4130   4286     :     :     :     :   \n",
       "1  1004     :   1364   1514     :     :     :     :   \n",
       "2   586     :   1413   1659     :     :     :     :   \n",
       "3  3109     :   3209   3198     :     :     :     :   \n",
       "4   414     :    736   1013     :     :     :     :   "
      ]
     },
     "execution_count": 11,
     "metadata": {},
     "output_type": "execute_result"
    }
   ],
   "source": [
    "new_ds.head(5)"
   ]
  },
  {
   "cell_type": "code",
   "execution_count": 12,
   "metadata": {},
   "outputs": [],
   "source": [
    "new_ds.to_csv(\"Immigration.csv\")"
   ]
  },
  {
   "cell_type": "markdown",
   "metadata": {},
   "source": []
  }
 ],
 "metadata": {
  "kernelspec": {
   "display_name": ".venv",
   "language": "python",
   "name": "python3"
  },
  "language_info": {
   "codemirror_mode": {
    "name": "ipython",
    "version": 3
   },
   "file_extension": ".py",
   "mimetype": "text/x-python",
   "name": "python",
   "nbconvert_exporter": "python",
   "pygments_lexer": "ipython3",
   "version": "3.12.10"
  }
 },
 "nbformat": 4,
 "nbformat_minor": 2
}
